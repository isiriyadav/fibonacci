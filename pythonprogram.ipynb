{
  "nbformat": 4,
  "nbformat_minor": 0,
  "metadata": {
    "colab": {
      "provenance": [],
      "authorship_tag": "ABX9TyPf+ubOy93k65mqF4ax0d3o",
      "include_colab_link": true
    },
    "kernelspec": {
      "name": "python3",
      "display_name": "Python 3"
    },
    "language_info": {
      "name": "python"
    }
  },
  "cells": [
    {
      "cell_type": "markdown",
      "metadata": {
        "id": "view-in-github",
        "colab_type": "text"
      },
      "source": [
        "<a href=\"https://colab.research.google.com/github/isiriyadav/fibonacci/blob/main/pythonprogram.ipynb\" target=\"_parent\"><img src=\"https://colab.research.google.com/assets/colab-badge.svg\" alt=\"Open In Colab\"/></a>"
      ]
    },
    {
      "cell_type": "markdown",
      "source": [
        "Write a program to find fibonacci series using recursivve function\n"
      ],
      "metadata": {
        "id": "ZJErelXV6-pt"
      }
    },
    {
      "cell_type": "code",
      "source": [
        "def fibonacci(n):\n",
        "  if n == 0:\n",
        "    return 0\n",
        "  elif n == 1:\n",
        "    return [0]\n",
        "  elif n == 2:\n",
        "    return [0,1]\n",
        "  else:\n",
        "    fibseries = fibonacci(n-1)\n",
        "    fibseries.append(fibseries[-1] + fibseries[-2])\n",
        "    return fibseries\n",
        "\n",
        "print(fibonacci(6))"
      ],
      "metadata": {
        "colab": {
          "base_uri": "https://localhost:8080/"
        },
        "id": "xzS1qU-M7e-Y",
        "outputId": "c0ae42ea-b531-4f9d-b02b-e2200c0b7ca7"
      },
      "execution_count": 2,
      "outputs": [
        {
          "output_type": "stream",
          "name": "stdout",
          "text": [
            "[0, 1, 1, 2, 3, 5]\n"
          ]
        }
      ]
    },
    {
      "cell_type": "code",
      "source": [],
      "metadata": {
        "id": "YHNaWheZ8owA"
      },
      "execution_count": null,
      "outputs": []
    }
  ]
}